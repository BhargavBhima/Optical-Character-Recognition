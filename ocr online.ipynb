{
 "cells": [
  {
   "cell_type": "code",
   "execution_count": 1,
   "metadata": {},
   "outputs": [
    {
     "name": "stdout",
     "output_type": "stream",
     "text": [
      "Starting to Download!\n",
      "Download complete!\n"
     ]
    }
   ],
   "source": [
  
    "import requests\n",
    "\n",
    "print ('Starting to Download!')\n",
    "\n",
    "url = 'https://lh3.googleusercontent.com/proxy/2RMVMLEcct4N3KLe25sCn8Aw217JyFmQ7I49ETzNrRH6LSGRrZD4liuL14aOEUXtnssN3LniCL6jdYBtLaydkbrVOg5fhQX-jS24X6hYCTtUeXI4vxPwLmfTe0CpSdqZT54HmLiVde9qFhO1d6dLnPuuCN8AkQ'\n",
    "r = requests.get(url)\n",
    "\n",
    "filename = 'ocr.jpg'\n",
    "\n",
    "with open(filename, 'wb') as out_file:\n",
    "    out_file.write(r.content)\n",
    "\n",
    "print(\"Download complete!\")"
   ]
  },
  {
   "cell_type": "code",
   "execution_count": 2,
   "metadata": {},
   "outputs": [
    {
     "name": "stdout",
     "output_type": "stream",
     "text": [
      "Text:\n",
      "| think philosophers can do things akin to\n",
      "theoretical scientists, in that, having read\n",
      "about empirical data, they too can think of\n",
      "what hypotheses and theories might\n",
      "account for that data. So there's a\n",
      "continuity between philosophy and science\n",
      "in that way.\n",
      "\n",
      "~ Robert Nozick\n"
     ]
    }
   ],
   "source": [
    "import cv2\n",
    "import numpy as np\n",
    "import pytesseract\n",
    "from PIL import Image\n",
    "\n",
    "# Path of working folder on Disk\n",
    "\n",
    "def get_string(img_path):\n",
    "    # Read image with opencv\n",
    "    img = cv2.imread(img_path)\n",
    "\n",
    "    # Convert to gray\n",
    "    img = cv2.cvtColor(img, cv2.COLOR_BGR2GRAY)\n",
    "\n",
    "    # Apply dilation and erosion to remove some noise\n",
    "    kernel = np.ones((1, 1), np.uint8)\n",
    "    img = cv2.dilate(img, kernel, iterations=1)\n",
    "    img = cv2.erode(img, kernel, iterations=1)\n",
    "\n",
    "    # Write image after removed noise\n",
    "    cv2.imwrite(\"removed_noise.png\", img)\n",
    "\n",
    "    #  Apply threshold to get image with only black and white\n",
    "    #img = cv2.adaptiveThreshold(img, 255, cv2.ADAPTIVE_THRESH_GAUSSIAN_C, cv2.THRESH_BINARY, 31, 2)\n",
    "\n",
    "    # Write the image after apply opencv to do some ...\n",
    "    cv2.imwrite(img_path, img)\n",
    "\n",
    "    # Recognize text with tesseract for python\n",
    "    result = pytesseract.image_to_string(Image.open(img_path))\n",
    "\n",
    "    # Remove template file\n",
    "    #os.remove(temp)\n",
    "\n",
    "    return result\n",
    "\n",
    "\n",
    "print ('Text:')\n",
    "print (get_string(filename))"
   ]
  },
  {
   "cell_type": "code",
   "execution_count": null,
   "metadata": {},
   "outputs": [],
   "source": []
  }
 ],
 "metadata": {
  "kernelspec": {
   "display_name": "Python 3",
   "language": "python",
   "name": "python3"
  },
  "language_info": {
   "codemirror_mode": {
    "name": "ipython",
    "version": 3
   },
   "file_extension": ".py",
   "mimetype": "text/x-python",
   "name": "python",
   "nbconvert_exporter": "python",
   "pygments_lexer": "ipython3",
   "version": "3.7.4"
  }
 },
 "nbformat": 4,
 "nbformat_minor": 2
}
